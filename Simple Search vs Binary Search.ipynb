{
 "cells": [
  {
   "cell_type": "markdown",
   "id": "ba90a001",
   "metadata": {},
   "source": [
    "# <h1><center>Binary Search vs Simple Search</h1></center>"
   ]
  },
  {
   "cell_type": "code",
   "execution_count": 8,
   "id": "9d343f63",
   "metadata": {},
   "outputs": [],
   "source": [
    "import timeit\n",
    "import random"
   ]
  },
  {
   "cell_type": "markdown",
   "id": "c4e9a181",
   "metadata": {},
   "source": [
    "### <h1><center>Simple Search/Linear Search</h1></center>"
   ]
  },
  {
   "cell_type": "markdown",
   "id": "23f9a4f3",
   "metadata": {},
   "source": [
    "### Simple search is easy enough to understand. If your looking for a value in an array you'll start from the begging of the array and go to the next value over. Repeat this process until you have found your value. This is ok when dealing with small arrays but will become slower when dealing with a very large array."
   ]
  },
  {
   "cell_type": "code",
   "execution_count": 3,
   "id": "f0482977",
   "metadata": {},
   "outputs": [
    {
     "name": "stdout",
     "output_type": "stream",
     "text": [
      "Final time to process code is: 0.00020689999999845554\n"
     ]
    }
   ],
   "source": [
    "some_array = [num for num in range(1,10000) ]\n",
    "search_for = random.randint(1,10000)\n",
    "\n",
    "start_time = timeit.default_timer()\n",
    "for num in some_array:\n",
    "    if num == search_for:\n",
    "        break\n",
    "        \n",
    "print(f'Final time to process code is: {timeit.default_timer() - start_time}')"
   ]
  },
  {
   "cell_type": "code",
   "execution_count": 31,
   "id": "2102b728",
   "metadata": {},
   "outputs": [
    {
     "name": "stdout",
     "output_type": "stream",
     "text": [
      "Final time to process code is: 0.02162560000033409\n"
     ]
    }
   ],
   "source": [
    "some_array = [num for num in range(1,1000000) ]\n",
    "search_for = random.randint(1,1000000)\n",
    "\n",
    "start_time = timeit.default_timer()\n",
    "for num in some_array:\n",
    "    if num == search_for:\n",
    "        break\n",
    "        \n",
    "print(f'Final time to process code is: {timeit.default_timer() - start_time}')"
   ]
  },
  {
   "cell_type": "code",
   "execution_count": 34,
   "id": "09751ccd",
   "metadata": {},
   "outputs": [
    {
     "name": "stdout",
     "output_type": "stream",
     "text": [
      "Final time to process code is: 49.30546130000039\n"
     ]
    }
   ],
   "source": [
    "some_array = [num for num in range(1,1000000000) ]\n",
    "search_for = random.randint(1,1000000000)\n",
    "\n",
    "start_time = timeit.default_timer()\n",
    "for num in some_array:\n",
    "    if num == search_for:\n",
    "        break\n",
    "        \n",
    "print(f'Final time to process code is: {timeit.default_timer() - start_time}')\n"
   ]
  },
  {
   "cell_type": "markdown",
   "id": "ee099622",
   "metadata": {},
   "source": [
    "### <h1><center>Binary Search</h1></center>"
   ]
  },
  {
   "cell_type": "markdown",
   "id": "b91819aa",
   "metadata": {},
   "source": [
    "### In order to use biunary search the array must be sorted. Then the algorithm will select the middle of the array and check if it is the requested value. If it is not, the algorithm will then check if the value is higher or lower than the needed value. The algorithm will repeate the first process until the value is found."
   ]
  },
  {
   "cell_type": "raw",
   "id": "a37f35b0",
   "metadata": {},
   "source": []
  },
  {
   "cell_type": "code",
   "execution_count": 6,
   "id": "bc76ba91",
   "metadata": {},
   "outputs": [
    {
     "name": "stdout",
     "output_type": "stream",
     "text": [
      "searching for: 9115\n",
      "Found the number we are looking for: 9115\n",
      "Final time to process code is: 0.0000770000\n"
     ]
    }
   ],
   "source": [
    "# Using the same values as simple search\n",
    "import timeit\n",
    "import random\n",
    "\n",
    "some_array = [num for num in range(1, 10000)]\n",
    "search_for = random.randint(1, 10000)\n",
    "\n",
    "low = 0\n",
    "high = len(some_array) - 1\n",
    "\n",
    "start_time = timeit.default_timer()\n",
    "while low <= high:\n",
    "\n",
    "    middle = (low + high) // 2\n",
    "    if some_array[middle] == search_for:\n",
    "        break\n",
    "\n",
    "    elif some_array[middle] > search_for:\n",
    "        high = middle - 1\n",
    "\n",
    "    else:\n",
    "        low = middle + 1\n",
    "print(f'Final time to process code is: {timeit.default_timer() - start_time:.10f}')"
   ]
  },
  {
   "cell_type": "code",
   "execution_count": 7,
   "id": "cae38a19",
   "metadata": {},
   "outputs": [
    {
     "name": "stdout",
     "output_type": "stream",
     "text": [
      "Final time to process code is: 0.0000799000\n"
     ]
    }
   ],
   "source": [
    "# Using the same values as simple search\n",
    "import timeit\n",
    "import random\n",
    "\n",
    "some_array = [num for num in range(1,1000000) ]\n",
    "search_for = random.randint(1,1000000)\n",
    "\n",
    "low = 0\n",
    "high = len(some_array) - 1\n",
    "\n",
    "start_time = timeit.default_timer()\n",
    "while low <= high:\n",
    "\n",
    "    middle = (low + high) // 2\n",
    "    if some_array[middle] == search_for:\n",
    "        break\n",
    "\n",
    "    elif some_array[middle] > search_for:\n",
    "        high = middle - 1\n",
    "\n",
    "    else:\n",
    "        low = middle + 1\n",
    "print(f'Final time to process code is: {timeit.default_timer() - start_time:.10f}')"
   ]
  },
  {
   "cell_type": "code",
   "execution_count": 15,
   "id": "2127c645",
   "metadata": {},
   "outputs": [
    {
     "name": "stdout",
     "output_type": "stream",
     "text": [
      "Final time to process code is: 0.0018560000\n"
     ]
    }
   ],
   "source": [
    "# Using the same values as simple search\n",
    "import timeit\n",
    "import random\n",
    "\n",
    "some_array = [num for num in range(1,1000000000) ]\n",
    "search_for = random.randint(1,1000000000)\n",
    "\n",
    "low = 0\n",
    "high = len(some_array) - 1\n",
    "\n",
    "start_time = timeit.default_timer()\n",
    "while low <= high:\n",
    "\n",
    "    middle = (low + high) // 2\n",
    "    if some_array[middle] == search_for:\n",
    "        break\n",
    "\n",
    "    elif some_array[middle] > search_for:\n",
    "        high = middle - 1\n",
    "\n",
    "    else:\n",
    "        low = middle + 1\n",
    "print(f'Final time to process code is: {timeit.default_timer() - start_time:.10f}')"
   ]
  },
  {
   "cell_type": "code",
   "execution_count": null,
   "id": "3fb6fc35",
   "metadata": {},
   "outputs": [],
   "source": []
  }
 ],
 "metadata": {
  "kernelspec": {
   "display_name": "Python 3 (ipykernel)",
   "language": "python",
   "name": "python3"
  },
  "language_info": {
   "codemirror_mode": {
    "name": "ipython",
    "version": 3
   },
   "file_extension": ".py",
   "mimetype": "text/x-python",
   "name": "python",
   "nbconvert_exporter": "python",
   "pygments_lexer": "ipython3",
   "version": "3.9.7"
  }
 },
 "nbformat": 4,
 "nbformat_minor": 5
}
